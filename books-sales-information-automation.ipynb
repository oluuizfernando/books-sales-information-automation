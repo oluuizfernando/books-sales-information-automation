{
 "cells": [
  {
   "cell_type": "code",
   "execution_count": 11,
   "metadata": {},
   "outputs": [],
   "source": [
    "from selenium import webdriver\n",
    "from selenium.webdriver.chrome.service import Service\n",
    "from selenium.webdriver.common.by import By\n",
    "from webdriver_manager.chrome import ChromeDriverManager\n",
    "import time\n",
    "import pandas as pd"
   ]
  },
  {
   "cell_type": "code",
   "execution_count": 12,
   "metadata": {},
   "outputs": [],
   "source": [
    "service = Service()\n",
    "\n",
    "options = webdriver.ChromeOptions()\n",
    "\n",
    "driver  = webdriver.Chrome(service=service, options=options)"
   ]
  },
  {
   "cell_type": "code",
   "execution_count": 13,
   "metadata": {},
   "outputs": [],
   "source": [
    "url = 'https://books.toscrape.com/'\n",
    "\n",
    "driver.get(url)"
   ]
  },
  {
   "cell_type": "markdown",
   "metadata": {},
   "source": [
    "# Looking for elements"
   ]
  },
  {
   "cell_type": "code",
   "execution_count": 4,
   "metadata": {},
   "outputs": [],
   "source": [
    "#titleElements = driver.find_elements(By.TAG_NAME, 'a')[54:94:2]\n",
    "#titleList = [title.get_attribute('title') for title in titleElements]"
   ]
  },
  {
   "cell_type": "markdown",
   "metadata": {},
   "source": [
    "# Casting and convertion data tests"
   ]
  },
  {
   "cell_type": "code",
   "execution_count": 5,
   "metadata": {},
   "outputs": [],
   "source": [
    "#float(driver.find_element(By.CLASS_NAME, \"price_color\").text.replace('£', ''))"
   ]
  },
  {
   "cell_type": "code",
   "execution_count": 6,
   "metadata": {},
   "outputs": [],
   "source": [
    "#int(driver.find_element(By.CLASS_NAME, \"instock\").text.replace('In stock (', '').replace(' available)', ''))"
   ]
  },
  {
   "cell_type": "markdown",
   "metadata": {},
   "source": [
    "# Extraindo dados de forma automatizada e criando a lista de estoque e de preços"
   ]
  },
  {
   "cell_type": "code",
   "execution_count": 16,
   "metadata": {},
   "outputs": [],
   "source": [
    "n_pages = int(driver.find_element(By.XPATH, '//*[@id=\"default\"]/div/div/div/div/section/div[2]/div/ul/li[1]').text.replace('Page 1 of ', ''))"
   ]
  },
  {
   "cell_type": "code",
   "execution_count": 17,
   "metadata": {},
   "outputs": [
    {
     "data": {
      "text/plain": [
       "50"
      ]
     },
     "execution_count": 17,
     "metadata": {},
     "output_type": "execute_result"
    }
   ],
   "source": [
    "n_pages"
   ]
  },
  {
   "cell_type": "code",
   "execution_count": 7,
   "metadata": {},
   "outputs": [],
   "source": [
    "titleElements = driver.find_elements(By.TAG_NAME, 'a')[54:94:2]\n",
    "titleList = [title.get_attribute('title') for title in titleElements]"
   ]
  },
  {
   "cell_type": "code",
   "execution_count": 8,
   "metadata": {},
   "outputs": [],
   "source": [
    "stockList = []\n",
    "pricesList = []\n",
    "titles = []\n",
    "i = 1\n",
    "page = 93\n",
    "while i <= n_pages:\n",
    "    titleElements = driver.find_elements(By.TAG_NAME, 'a')[54:94:2]\n",
    "    titleList = [title.get_attribute('title') for title in titleElements]\n",
    "    for t in titleList:\n",
    "        titles.append(t)\n",
    "\n",
    "    for title in titleElements:\n",
    "        title.click()\n",
    "        qtdStock = int(driver.find_element(By.CLASS_NAME, \"instock\").text.replace('In stock (', '').replace(' available)', ''))\n",
    "        stockList.append(qtdStock)\n",
    "        price = float(driver.find_element(By.CLASS_NAME, \"price_color\").text.replace('£', ''))\n",
    "        pricesList.append(price)\n",
    "        driver.back()\n",
    "        time.sleep(1)\n",
    "\n",
    "    i+=1\n",
    "    if(i != 50):\n",
    "        time.sleep(2)\n",
    "        driver.find_elements(By.TAG_NAME, 'a')[page].click()\n",
    "    if (i > 1):\n",
    "        page = 94\n",
    "    time.sleep(4)\n"
   ]
  },
  {
   "cell_type": "code",
   "execution_count": 9,
   "metadata": {},
   "outputs": [],
   "source": [
    "driver.quit()"
   ]
  },
  {
   "cell_type": "code",
   "execution_count": 10,
   "metadata": {},
   "outputs": [
    {
     "data": {
      "text/html": [
       "<div>\n",
       "<style scoped>\n",
       "    .dataframe tbody tr th:only-of-type {\n",
       "        vertical-align: middle;\n",
       "    }\n",
       "\n",
       "    .dataframe tbody tr th {\n",
       "        vertical-align: top;\n",
       "    }\n",
       "\n",
       "    .dataframe thead th {\n",
       "        text-align: right;\n",
       "    }\n",
       "</style>\n",
       "<table border=\"1\" class=\"dataframe\">\n",
       "  <thead>\n",
       "    <tr style=\"text-align: right;\">\n",
       "      <th></th>\n",
       "      <th>title</th>\n",
       "      <th>stock</th>\n",
       "      <th>price</th>\n",
       "    </tr>\n",
       "  </thead>\n",
       "  <tbody>\n",
       "    <tr>\n",
       "      <th>0</th>\n",
       "      <td>A Light in the Attic</td>\n",
       "      <td>22</td>\n",
       "      <td>51.77</td>\n",
       "    </tr>\n",
       "    <tr>\n",
       "      <th>1</th>\n",
       "      <td>Tipping the Velvet</td>\n",
       "      <td>20</td>\n",
       "      <td>53.74</td>\n",
       "    </tr>\n",
       "    <tr>\n",
       "      <th>2</th>\n",
       "      <td>Soumission</td>\n",
       "      <td>20</td>\n",
       "      <td>50.10</td>\n",
       "    </tr>\n",
       "    <tr>\n",
       "      <th>3</th>\n",
       "      <td>Sharp Objects</td>\n",
       "      <td>20</td>\n",
       "      <td>47.82</td>\n",
       "    </tr>\n",
       "    <tr>\n",
       "      <th>4</th>\n",
       "      <td>Sapiens: A Brief History of Humankind</td>\n",
       "      <td>20</td>\n",
       "      <td>54.23</td>\n",
       "    </tr>\n",
       "    <tr>\n",
       "      <th>...</th>\n",
       "      <td>...</td>\n",
       "      <td>...</td>\n",
       "      <td>...</td>\n",
       "    </tr>\n",
       "    <tr>\n",
       "      <th>195</th>\n",
       "      <td>Eureka Trivia 6.0</td>\n",
       "      <td>15</td>\n",
       "      <td>54.59</td>\n",
       "    </tr>\n",
       "    <tr>\n",
       "      <th>196</th>\n",
       "      <td>Drive: The Surprising Truth About What Motivat...</td>\n",
       "      <td>15</td>\n",
       "      <td>34.95</td>\n",
       "    </tr>\n",
       "    <tr>\n",
       "      <th>197</th>\n",
       "      <td>Done Rubbed Out (Reightman &amp; Bailey #1)</td>\n",
       "      <td>15</td>\n",
       "      <td>37.72</td>\n",
       "    </tr>\n",
       "    <tr>\n",
       "      <th>198</th>\n",
       "      <td>Doing It Over (Most Likely To #1)</td>\n",
       "      <td>15</td>\n",
       "      <td>35.61</td>\n",
       "    </tr>\n",
       "    <tr>\n",
       "      <th>199</th>\n",
       "      <td>Deliciously Ella Every Day: Quick and Easy Rec...</td>\n",
       "      <td>15</td>\n",
       "      <td>42.16</td>\n",
       "    </tr>\n",
       "  </tbody>\n",
       "</table>\n",
       "<p>200 rows × 3 columns</p>\n",
       "</div>"
      ],
      "text/plain": [
       "                                                 title  stock  price\n",
       "0                                 A Light in the Attic     22  51.77\n",
       "1                                   Tipping the Velvet     20  53.74\n",
       "2                                           Soumission     20  50.10\n",
       "3                                        Sharp Objects     20  47.82\n",
       "4                Sapiens: A Brief History of Humankind     20  54.23\n",
       "..                                                 ...    ...    ...\n",
       "195                                  Eureka Trivia 6.0     15  54.59\n",
       "196  Drive: The Surprising Truth About What Motivat...     15  34.95\n",
       "197            Done Rubbed Out (Reightman & Bailey #1)     15  37.72\n",
       "198                  Doing It Over (Most Likely To #1)     15  35.61\n",
       "199  Deliciously Ella Every Day: Quick and Easy Rec...     15  42.16\n",
       "\n",
       "[200 rows x 3 columns]"
      ]
     },
     "execution_count": 10,
     "metadata": {},
     "output_type": "execute_result"
    }
   ],
   "source": [
    "dictDF = {\n",
    "    'title': titles,\n",
    "    'stock': stockList,\n",
    "    'price': pricesList\n",
    "}\n",
    "\n",
    "pd.DataFrame(dictDF)"
   ]
  },
  {
   "cell_type": "code",
   "execution_count": null,
   "metadata": {},
   "outputs": [],
   "source": []
  }
 ],
 "metadata": {
  "kernelspec": {
   "display_name": "base",
   "language": "python",
   "name": "python3"
  },
  "language_info": {
   "codemirror_mode": {
    "name": "ipython",
    "version": 3
   },
   "file_extension": ".py",
   "mimetype": "text/x-python",
   "name": "python",
   "nbconvert_exporter": "python",
   "pygments_lexer": "ipython3",
   "version": "3.10.9"
  }
 },
 "nbformat": 4,
 "nbformat_minor": 2
}
